{
 "cells": [
  {
   "cell_type": "code",
   "execution_count": 29,
   "id": "2234cce6",
   "metadata": {},
   "outputs": [
    {
     "data": {
      "text/plain": [
       "'\\nThis notebook is a PyTorch implementation of convolutional neural networks\\nThe used dataset is the MNIST handwritten digits dataset\\n'"
      ]
     },
     "execution_count": 29,
     "metadata": {},
     "output_type": "execute_result"
    }
   ],
   "source": [
    "### About the notebook\n",
    "\"\"\"\n",
    "This notebook is a PyTorch implementation of convolutional neural networks\n",
    "The used dataset is the MNIST handwritten digits dataset\n",
    "\"\"\""
   ]
  },
  {
   "cell_type": "code",
   "execution_count": 2,
   "id": "9999ab38",
   "metadata": {},
   "outputs": [],
   "source": [
    "## Import the required modules (libraries)\n",
    "\n",
    "## for the MNIST dataset\n",
    "from torchvision import datasets \n",
    "## ToTensor() is to convert PIL image to tensor of numbers of shape (channels , height , width)\n",
    "## Normalize is used to rescale the numbers (pixels of the image in our case)\n",
    "## PIL image is the format of the saved images in the MNIST dataset\n",
    "## PIL image is in shape of (height , width , channel)\n",
    "from torchvision.transforms import ToTensor , Normalize , Compose\n",
    "## For visualization of the data\n",
    "import matplotlib.pyplot as plt\n",
    "## For tensor operations\n",
    "import torch\n",
    "## Needed for building the neural network\n",
    "from torch import nn \n",
    "## Dividing the dataset into batches\n",
    "from torch.utils.data import DataLoader\n",
    "## Needed for using tensorboard to view results of training\n",
    "from torch.utils.tensorboard import SummaryWriter\n",
    "## Needed for the max pooling layer\n",
    "import torch.nn.functional as F"
   ]
  },
  {
   "cell_type": "code",
   "execution_count": 3,
   "id": "eae19678",
   "metadata": {},
   "outputs": [],
   "source": [
    "## Download the MNIST dataset\n",
    "## before we download , let us consider specifying the transformations to be applied\n",
    "## Normalize has two parameters , mean and standard deviation\n",
    "transform = Compose([ToTensor(),\n",
    "                     Normalize((0.5,), (0.5,)),\n",
    "                              ])\n",
    "## Train dataset\n",
    "train_data = datasets.MNIST(\n",
    "    root = 'data', # where dataset is stored. it will be in data folder in the same directory as your notebook file\n",
    "    train = True,  # it is training dataset                    \n",
    "    transform = transform, # transform the images after downloading \n",
    "    download = True) #download if the dataset is not downloaded\n",
    "\n",
    "## Test dataset\n",
    "## Same as training data, but the train parameter is set to false to indicate this is testing dataset\n",
    "test_data = datasets.MNIST(\n",
    "    root = 'data', \n",
    "    train = False, \n",
    "    transform = transform\n",
    ")"
   ]
  },
  {
   "cell_type": "code",
   "execution_count": 4,
   "id": "a473b801",
   "metadata": {},
   "outputs": [
    {
     "data": {
      "text/plain": [
       "torch.Size([60000, 28, 28])"
      ]
     },
     "execution_count": 4,
     "metadata": {},
     "output_type": "execute_result"
    }
   ],
   "source": [
    "## Check the dimensions of train dataset\n",
    "## It has 60000 grayscale images (single channel) of shape 28 by 28\n",
    "train_data.data.size()"
   ]
  },
  {
   "cell_type": "code",
   "execution_count": 5,
   "id": "2ddd2587",
   "metadata": {},
   "outputs": [
    {
     "data": {
      "text/plain": [
       "torch.Size([10000, 28, 28])"
      ]
     },
     "execution_count": 5,
     "metadata": {},
     "output_type": "execute_result"
    }
   ],
   "source": [
    "## Check the dimensions of the test dataset\n",
    "test_data.data.size()"
   ]
  },
  {
   "cell_type": "code",
   "execution_count": 6,
   "id": "e28fe812",
   "metadata": {},
   "outputs": [
    {
     "data": {
      "image/png": "[encoded data removed]",
      "text/plain": [
       "<Figure size 720x720 with 25 Axes>"
      ]
     },
     "metadata": {
      "needs_background": "light"
     },
     "output_type": "display_data"
    }
   ],
   "source": [
    "## display some images\n",
    "figure = plt.figure(figsize=(10, 10)) ## create a main figure object\n",
    "cols, rows = 5, 5 ## grid of 5  by 5\n",
    "for i in range(1, cols * rows + 1):\n",
    "    sample_idx = torch.randint(len(train_data), size=(1,)).item() ## create a random index\n",
    "    img, label = train_data[sample_idx] ## find the corresponding image with their labels\n",
    "    figure.add_subplot(rows, cols, i) ## adding subplot to the main figure\n",
    "    plt.title(label) # image title is the label\n",
    "    plt.axis(\"off\") # disable the axis\n",
    "    plt.imshow(img.squeeze(), cmap=\"gray\") # show the image in grayscale\n",
    "plt.show()"
   ]
  },
  {
   "cell_type": "code",
   "execution_count": 7,
   "id": "37535d77",
   "metadata": {},
   "outputs": [],
   "source": [
    "## Now we have the train and test datasets and both are normalized\n",
    "## We can start building different models and explore the performance\n",
    "## Build a simple neural network (NN) by inheriting from the module class\n",
    "\n",
    "class simple_nn(nn.Module):\n",
    "    def __init__(self , input_size , hidden_layer , num_of_classes):\n",
    "        super(simple_nn, self).__init__()\n",
    "        self.flatten = nn.Flatten() ## convert input image to tensor of shape (batch_size , 784)(784 is just 28*28)\n",
    "        self.linear_relu_stack = nn.Sequential( ## stacking linear layers\n",
    "            nn.Linear(input_size, hidden_layer), ## first hidden layer \n",
    "            nn.ReLU(), ## ReLU activation function\n",
    "            nn.Linear(hidden_layer, int(hidden_layer/4)), ## second hidden layer\n",
    "            nn.ReLU(),\n",
    "            nn.Linear(int(hidden_layer/4), int(hidden_layer/8)), ## third hidden layer\n",
    "            nn.ReLU(),\n",
    "            nn.Linear(int(hidden_layer/8), int(hidden_layer/8)), ## fourth hidden layer\n",
    "            nn.ReLU(),\n",
    "            nn.Linear(int(hidden_layer/8), num_of_classes), ## output layer\n",
    "            #nn.LogSoftmax(dim=1) ## for generating predictions' probabilities\n",
    "        )\n",
    "    ## To produce predictions by applying feedforward process (feeding input to the model)\n",
    "    def forward(self, x): \n",
    "        x = self.flatten(x)\n",
    "        logits = self.linear_relu_stack(x)\n",
    "        return logits"
   ]
  },
  {
   "cell_type": "code",
   "execution_count": 8,
   "id": "b0219673",
   "metadata": {},
   "outputs": [],
   "source": [
    "## Size of the input tensor \n",
    "input_size = 28 * 28\n",
    "## Hidden layer size\n",
    "hidden_layer = 256\n",
    "## Size of the output layer , since we have 10 digits (0 - 9)\n",
    "num_of_classes = 10"
   ]
  },
  {
   "cell_type": "code",
   "execution_count": 9,
   "id": "c7f23dd2",
   "metadata": {
    "scrolled": false
   },
   "outputs": [
    {
     "name": "stdout",
     "output_type": "stream",
     "text": [
      "simple_nn(\n",
      "  (flatten): Flatten(start_dim=1, end_dim=-1)\n",
      "  (linear_relu_stack): Sequential(\n",
      "    (0): Linear(in_features=784, out_features=256, bias=True)\n",
      "    (1): ReLU()\n",
      "    (2): Linear(in_features=256, out_features=64, bias=True)\n",
      "    (3): ReLU()\n",
      "    (4): Linear(in_features=64, out_features=32, bias=True)\n",
      "    (5): ReLU()\n",
      "    (6): Linear(in_features=32, out_features=32, bias=True)\n",
      "    (7): ReLU()\n",
      "    (8): Linear(in_features=32, out_features=10, bias=True)\n",
      "  )\n",
      ")\n"
     ]
    }
   ],
   "source": [
    "## For faster training, we will move the model to the GPU (if found)\n",
    "device = 'cuda' if torch.cuda.is_available() else 'cpu'\n",
    "## create a nn model\n",
    "nn_model = simple_nn(input_size , hidden_layer , num_of_classes).to(device)\n",
    "## view the model\n",
    "print(nn_model)"
   ]
  },
  {
   "cell_type": "code",
   "execution_count": 10,
   "id": "39fd0d53",
   "metadata": {},
   "outputs": [],
   "source": [
    "## Define the loss function\n",
    "## It is the cross entropy loss\n",
    "## We can also use the negative log likelihood given that the activation of the last layer is LogSoftmax\n",
    "nn_loss = nn.CrossEntropyLoss()\n",
    "## Define the optimizer for reducing the loss function\n",
    "## It is stochastic gradient descent\n",
    "## Define also the learning rate and the momentum\n",
    "learning_rate = 0.003\n",
    "momentum = 0.9\n",
    "optimizer = torch.optim.SGD(nn_model.parameters(), ## parameters to optimize\n",
    "                         lr = learning_rate, ## learning rate\n",
    "                         momentum = momentum ## momentum\n",
    "                        )"
   ]
  },
  {
   "cell_type": "code",
   "execution_count": 11,
   "id": "887edc35",
   "metadata": {},
   "outputs": [],
   "source": [
    "## It is better to divide the dataset into batches for faster training and convergence\n",
    "## Batching the training dataset\n",
    "## Define the batch size (number of images in each batch)\n",
    "batch_size = 64\n",
    "train_loader = DataLoader(train_data, \n",
    "                          batch_size = batch_size,\n",
    "                          shuffle=True ## randomly re-ordering the samples\n",
    "                         )\n",
    "\n",
    "## Batching the testing dataset\n",
    "test_loader = DataLoader(test_data, \n",
    "                         batch_size = batch_size, \n",
    "                         shuffle=True)\n"
   ]
  },
  {
   "cell_type": "code",
   "execution_count": 12,
   "id": "791ff002",
   "metadata": {},
   "outputs": [
    {
     "name": "stdout",
     "output_type": "stream",
     "text": [
      "torch.Size([64, 1, 28, 28])\n"
     ]
    }
   ],
   "source": [
    "# You can check a single batch of any dataloader (train or test)\n",
    "imgs , lbls = next(iter(train_loader))\n",
    "print(imgs.size())"
   ]
  },
  {
   "cell_type": "code",
   "execution_count": 13,
   "id": "d4196083",
   "metadata": {},
   "outputs": [],
   "source": [
    "## This is the writer for recording the results to the tensorboard\n",
    "writer = SummaryWriter('runs/nn_mnist')"
   ]
  },
  {
   "cell_type": "code",
   "execution_count": 14,
   "id": "9363bafa",
   "metadata": {},
   "outputs": [],
   "source": [
    "## Define a function to calculate the accuracy\n",
    "## We will use a function taken from this code\n",
    "## Link : https://github.com/BunsenFeng/BotRGCN/blob/main/BotRGCN/gat.py\n",
    "\n",
    "def get_accuracy(probs, labels):\n",
    "    probs = torch.argmax(probs, dim = 1)\n",
    "    correct = 0\n",
    "    for i in range(len(probs)):\n",
    "        if probs[i] == labels[i]:\n",
    "            correct += 1\n",
    "    return correct / len(probs)\n"
   ]
  },
  {
   "cell_type": "code",
   "execution_count": 17,
   "id": "d46cc4e8",
   "metadata": {},
   "outputs": [],
   "source": [
    "## Now we can train our model\n",
    "## Specify the number of epochs (training iterations)\n",
    "epochs = 10\n",
    "## Define a training function\n",
    "def train(model , train_loader , test_loader , epochs , optimizer , nn_loss , device):\n",
    "    for i in range(epochs):\n",
    "        train_loss = 0 ## loss in each epoch\n",
    "        train_acc = 0 ## accuracy in each epoch\n",
    "        for train_x , train_y in train_loader:\n",
    "            ## Move the batch to the GPU\n",
    "            train_x = train_x.to(device)\n",
    "            train_y = train_y.to(device)\n",
    "            \n",
    "            ## Set the model mode to training\n",
    "            model.train()\n",
    "            \n",
    "            ## Zerowise the gradient to prevent gradient accumulation\n",
    "            optimizer.zero_grad(\n",
    "            )\n",
    "            ## Feedforward process\n",
    "            y_hat = model(train_x)\n",
    "            \n",
    "            ## Calculate the loss\n",
    "            loss = nn_loss(y_hat , train_y)\n",
    "            acc = get_accuracy(y_hat , train_y)\n",
    "            \n",
    "            ## Calculate the gradients\n",
    "            loss.backward()\n",
    "            \n",
    "            ## Update the parameters\n",
    "            optimizer.step()\n",
    "            \n",
    "            ## Add to the epoch loss and accuracy\n",
    "            train_loss = train_loss + loss.item()\n",
    "            train_acc = train_acc + acc\n",
    "        \n",
    "        ## Evaluate the model on the testing dataset\n",
    "        test_acc = 0\n",
    "        for test_x , test_y in test_loader:\n",
    "            ## set the model mode to testing or evaluating\n",
    "            model.eval()\n",
    "            test_x = test_x.to(device)\n",
    "            test_y = test_y.to(device)\n",
    "            y_hat = model(test_x)\n",
    "            acc = get_accuracy(y_hat , test_y)\n",
    "            test_acc = test_acc + acc\n",
    "        \n",
    "        ## Print the results \n",
    "        ## The loss and accuracy are averaged over the batches in the training and testing datasets\n",
    "        print(f'Epoch: {i:03d} , Train Loss: {train_loss/len(train_loader):.4f} , Train Acc: {train_acc/len(train_loader):.4f}  , Test Acc: {test_acc/len(test_loader):.4f}')\n",
    "        \n",
    "        ## Add train loss, train accuracy , and test accuracy to the tensorboard\n",
    "        writer.add_scalar('Train/loss', train_loss/len(train_loader) , i) \n",
    "        writer.add_scalar('Train/acc', train_acc/len(train_loader) , i)  \n",
    "        writer.add_scalar('Test/acc', test_acc/len(test_loader) , i)  \n",
    "        \n",
    "            \n",
    "    "
   ]
  },
  {
   "cell_type": "code",
   "execution_count": 18,
   "id": "3f6eac3e",
   "metadata": {},
   "outputs": [
    {
     "name": "stdout",
     "output_type": "stream",
     "text": [
      "Epoch: 000 , Train Loss: 1.2987 , Train Acc: 0.5418  , Test Acc: 0.8618\n",
      "Epoch: 001 , Train Loss: 0.3408 , Train Acc: 0.8983  , Test Acc: 0.9271\n",
      "Epoch: 002 , Train Loss: 0.2031 , Train Acc: 0.9386  , Test Acc: 0.9511\n",
      "Epoch: 003 , Train Loss: 0.1519 , Train Acc: 0.9545  , Test Acc: 0.9585\n",
      "Epoch: 004 , Train Loss: 0.1232 , Train Acc: 0.9637  , Test Acc: 0.9552\n",
      "Epoch: 005 , Train Loss: 0.1068 , Train Acc: 0.9674  , Test Acc: 0.9658\n",
      "Epoch: 006 , Train Loss: 0.0910 , Train Acc: 0.9723  , Test Acc: 0.9674\n",
      "Epoch: 007 , Train Loss: 0.0810 , Train Acc: 0.9751  , Test Acc: 0.9730\n",
      "Epoch: 008 , Train Loss: 0.0706 , Train Acc: 0.9787  , Test Acc: 0.9676\n",
      "Epoch: 009 , Train Loss: 0.0626 , Train Acc: 0.9805  , Test Acc: 0.9716\n"
     ]
    }
   ],
   "source": [
    "## Run the training function\n",
    "train(nn_model , train_loader , test_loader , epochs , optimizer , nn_loss , device)"
   ]
  },
  {
   "cell_type": "code",
   "execution_count": 19,
   "id": "fb0cdfc7",
   "metadata": {},
   "outputs": [],
   "source": [
    "## Let us try using CNN\n",
    "## Create the CNN model \n",
    "class mycnn(nn.Module):\n",
    "    def __init__(self , in_channels , out_channels ,kernel_size ,hidden_size ,   num_of_classes):\n",
    "        super(mycnn, self).__init__()\n",
    "        ## A 2d convolution layer\n",
    "        self.conv1 = nn.Conv2d(in_channels , ## number of channels for input image\n",
    "                               out_channels[0] , ## number of channels for output image\n",
    "                               kernel_size,  ## size of the filter kernel\n",
    "                               stride = 1 , ## movement of the filter kernel\n",
    "                               padding = 2  ## padding added to the four sides of the image \n",
    "                              )\n",
    "        self.conv2 = nn.Conv2d(out_channels[0] , \n",
    "                               out_channels[1] , \n",
    "                               kernel_size , \n",
    "                               stride = 1 , \n",
    "                               padding = 2\n",
    "                              )\n",
    "        self.fc1 = nn.Linear(out_channels[1] * 7 * 7 , hidden_size)\n",
    "        self.fc2 = nn.Linear(hidden_size , num_of_classes)\n",
    "        \n",
    "        \n",
    "        \n",
    "    def forward(self , x):\n",
    "        ## 2d max pooling layer of size 2 by 2\n",
    "        x = F.max_pool2d(F.relu(self.conv1(x)), (2, 2))\n",
    "        x = F.max_pool2d(F.relu(self.conv2(x)), (2,2))\n",
    "        ## Flatten except for the batch size dimension  (1 is the starting dimension)\n",
    "        ## Output of flatten will have the shape of (batch_size , 32 * 7 *7)\n",
    "        x = torch.flatten(x, 1)\n",
    "        x = self.fc1(x)\n",
    "        x = self.fc2(x)\n",
    "        return x\n",
    "        \n",
    "        "
   ]
  },
  {
   "cell_type": "code",
   "execution_count": 20,
   "id": "8b0faf7e",
   "metadata": {},
   "outputs": [],
   "source": [
    "in_channels = 1 ## channels of the input\n",
    "out_channels = [16 , 32] ## channels of the output\n",
    "kernel_size = 5 ## size of the filter kernel\n",
    "hidden_size = 256 ## size of the hidden layer"
   ]
  },
  {
   "cell_type": "code",
   "execution_count": 22,
   "id": "1cebb9f6",
   "metadata": {
    "scrolled": true
   },
   "outputs": [
    {
     "name": "stdout",
     "output_type": "stream",
     "text": [
      "mycnn(\n",
      "  (conv1): Conv2d(1, 16, kernel_size=(5, 5), stride=(1, 1), padding=(2, 2))\n",
      "  (conv2): Conv2d(16, 32, kernel_size=(5, 5), stride=(1, 1), padding=(2, 2))\n",
      "  (fc1): Linear(in_features=1568, out_features=256, bias=True)\n",
      "  (fc2): Linear(in_features=256, out_features=10, bias=True)\n",
      ")\n"
     ]
    }
   ],
   "source": [
    "## Now let us create a CNN model\n",
    "cnn_model = mycnn(in_channels , out_channels , kernel_size  ,  hidden_size  ,  num_of_classes).to(device)\n",
    "print(cnn_model)"
   ]
  },
  {
   "cell_type": "code",
   "execution_count": 23,
   "id": "2ba6a25e",
   "metadata": {},
   "outputs": [],
   "source": [
    "## For storing the results of the CNN model\n",
    "writer = SummaryWriter('runs/cnn_mnist')"
   ]
  },
  {
   "cell_type": "code",
   "execution_count": 24,
   "id": "6f5122f5",
   "metadata": {},
   "outputs": [],
   "source": [
    "## Configuration of the CNN model\n",
    "cc_learning_rate = 0.01\n",
    "## Here we used Adam optimizer\n",
    "cnn_optim = torch.optim.Adam(cnn_model.parameters(),\n",
    "                         lr = cc_learning_rate)"
   ]
  },
  {
   "cell_type": "code",
   "execution_count": 25,
   "id": "16e62e5c",
   "metadata": {},
   "outputs": [
    {
     "name": "stdout",
     "output_type": "stream",
     "text": [
      "Epoch: 000 , Train Loss: 0.2823 , Train Acc: 0.9141  , Test Acc: 0.9361\n",
      "Epoch: 001 , Train Loss: 0.1480 , Train Acc: 0.9586  , Test Acc: 0.9641\n",
      "Epoch: 002 , Train Loss: 0.1333 , Train Acc: 0.9617  , Test Acc: 0.9654\n",
      "Epoch: 003 , Train Loss: 0.1307 , Train Acc: 0.9632  , Test Acc: 0.9427\n",
      "Epoch: 004 , Train Loss: 0.1354 , Train Acc: 0.9616  , Test Acc: 0.9579\n",
      "Epoch: 005 , Train Loss: 0.1295 , Train Acc: 0.9639  , Test Acc: 0.9610\n",
      "Epoch: 006 , Train Loss: 0.1252 , Train Acc: 0.9649  , Test Acc: 0.9689\n",
      "Epoch: 007 , Train Loss: 0.1247 , Train Acc: 0.9647  , Test Acc: 0.9602\n",
      "Epoch: 008 , Train Loss: 0.1237 , Train Acc: 0.9657  , Test Acc: 0.9665\n",
      "Epoch: 009 , Train Loss: 0.1238 , Train Acc: 0.9656  , Test Acc: 0.9600\n"
     ]
    }
   ],
   "source": [
    "# Run the training function using the CNN\n",
    "train(cnn_model , train_loader , test_loader , epochs , cnn_optim , nn_loss , device)"
   ]
  },
  {
   "cell_type": "code",
   "execution_count": 27,
   "id": "e7b31552",
   "metadata": {},
   "outputs": [
    {
     "data": {
      "text/plain": [
       "Reusing TensorBoard on port 8080 (pid 26580), started 10:46:06 ago. (Use '!kill 26580' to kill it.)"
      ]
     },
     "metadata": {},
     "output_type": "display_data"
    },
    {
     "data": {
      "text/html": [
       "\n",
       "      <iframe id=\"tensorboard-frame-4c36d95949fab8b2\" width=\"100%\" height=\"800\" frameborder=\"0\">\n",
       "      </iframe>\n",
       "      <script>\n",
       "        (function() {\n",
       "          const frame = document.getElementById(\"tensorboard-frame-4c36d95949fab8b2\");\n",
       "          const url = new URL(\"/\", window.location);\n",
       "          const port = 8080;\n",
       "          if (port) {\n",
       "            url.port = port;\n",
       "          }\n",
       "          frame.src = url;\n",
       "        })();\n",
       "      </script>\n",
       "    "
      ],
      "text/plain": [
       "<IPython.core.display.HTML object>"
      ]
     },
     "metadata": {},
     "output_type": "display_data"
    }
   ],
   "source": [
    "# Run the tensorboard interface\n",
    "%load_ext tensorboard\n",
    "%tensorboard --logdir runs --port 8080"
   ]
  },
  {
   "cell_type": "code",
   "execution_count": null,
   "id": "8e09ecf5",
   "metadata": {},
   "outputs": [],
   "source": [
    "## Note\n",
    "\"\"\"\n",
    "Maybe you have noticed that the testing accuracy is higher than the training accuracy in both NN and CNN\n",
    "This can be due to different reasons\n",
    "1 - Dropout technique\n",
    "    because this technique has a different behaviour in training (disabling the neurons) and testing (enabling the neurons)\n",
    "2 - The samples in the testing dataset are simple and easy to predict, unlike those that belong to the training dataset.\n",
    "    This can be solved by applying k-fold cross validation and see if the trend keeps on comming\n",
    "\"\"\""
   ]
  }
 ],
 "metadata": {
  "kernelspec": {
   "display_name": "Python 3 (ipykernel)",
   "language": "python",
   "name": "python3"
  },
  "language_info": {
   "codemirror_mode": {
    "name": "ipython",
    "version": 3
   },
   "file_extension": ".py",
   "mimetype": "text/x-python",
   "name": "python",
   "nbconvert_exporter": "python",
   "pygments_lexer": "ipython3",
   "version": "3.8.8"
  }
 },
 "nbformat": 4,
 "nbformat_minor": 5
}
